{
  "nbformat": 4,
  "nbformat_minor": 0,
  "metadata": {
    "kernelspec": {
      "display_name": "Python 3",
      "language": "python",
      "name": "python3"
    },
    "language_info": {
      "codemirror_mode": {
        "name": "ipython",
        "version": 3
      },
      "file_extension": ".py",
      "mimetype": "text/x-python",
      "name": "python",
      "nbconvert_exporter": "python",
      "pygments_lexer": "ipython3",
      "version": "3.7.6"
    },
    "colab": {
      "name": "SQL.ipynb",
      "provenance": [],
      "collapsed_sections": [],
      "include_colab_link": true
    }
  },
  "cells": [
    {
      "cell_type": "markdown",
      "metadata": {
        "id": "view-in-github",
        "colab_type": "text"
      },
      "source": [
        "<a href=\"https://colab.research.google.com/github/oliverrmaa/sql-springboard/blob/main/notebooks/SQL.ipynb\" target=\"_parent\"><img src=\"https://colab.research.google.com/assets/colab-badge.svg\" alt=\"Open In Colab\"/></a>"
      ]
    },
    {
      "cell_type": "markdown",
      "metadata": {
        "id": "wzfBLuQCt8zG"
      },
      "source": [
        "# 1. Connecting Jupyter / Colab Notebook with Google BigQuery "
      ]
    },
    {
      "cell_type": "markdown",
      "metadata": {
        "id": "KzUPbNs4t8zJ"
      },
      "source": [
        "## 1.1 Discussion: Why do we need to learn SQL?"
      ]
    },
    {
      "cell_type": "markdown",
      "metadata": {
        "id": "ClrAJ6VDwg5S"
      },
      "source": [
        "## 1.2 Google BigQuery Set Up "
      ]
    },
    {
      "cell_type": "markdown",
      "metadata": {
        "id": "wAJpJs76wsyq"
      },
      "source": [
        "1. Go to https://cloud.google.com/bigquery/docs/sandbox and click on “Go to the Cloud Console” \n",
        "\n",
        "2. Sign in with a google account, if you do not have one you can make one by making a gmail account very easily here https://www.google.com/gmail/about/\n",
        "\n",
        "3. Go to the left hand panel and scroll down until you see BigQuery which is under the \"Big Data\" headings\n",
        "\n",
        "4. Click on BigQuery (Protip: click on the pin button beside BigQuery so that it is the first thing that appears in the left hand menu)\n",
        "\n",
        "5. BigQuery will now open and you will be prompted to create a new project. You can name this project anything you want. \n",
        "\n",
        "6. Once this is created make sure to bookmark the web URL to quickly get here in the future.\n",
        "\n"
      ]
    },
    {
      "cell_type": "markdown",
      "metadata": {
        "id": "eRLz1X3VNMRx"
      },
      "source": [
        "### 1.2.1 Google SDK Installation (only necessary for local notebooks)"
      ]
    },
    {
      "cell_type": "markdown",
      "metadata": {
        "id": "lToCf6c6NRzu"
      },
      "source": [
        "If you prefer to use a local instance of Jupyter Notebook, please note you will have to install the Google Cloud SDK so that you have access to the `gcloud` package commands for authentication purposes. Please follow the instructions here: https://cloud.google.com/sdk/docs/install"
      ]
    },
    {
      "cell_type": "markdown",
      "metadata": {
        "id": "RJ3FlMafQBn_"
      },
      "source": [
        "### 1.2.2 Google BigQuery UI Exploration"
      ]
    },
    {
      "cell_type": "markdown",
      "metadata": {
        "id": "PSCz5f8vQPKi"
      },
      "source": [
        "This will be done in the BQ UI during the lesson."
      ]
    },
    {
      "cell_type": "markdown",
      "metadata": {
        "id": "xoWTmqV2ywzg"
      },
      "source": [
        "## 1.2.3 Google BigQuery Public Datasets "
      ]
    },
    {
      "cell_type": "markdown",
      "metadata": {
        "id": "vCoTxSBFORW8"
      },
      "source": [
        "In the search bar of the left panel in Google BigQuery, please type in `public-data`. This should locate the `bigquery-public-data` project. Make sure to pin this project and you will have access to large publically available curated datasets! We will be using the `bigquery-public-data.chicago_crime.crime` table."
      ]
    },
    {
      "cell_type": "markdown",
      "metadata": {
        "id": "WneqmeCqy54B"
      },
      "source": [
        "## 1.4 Notebook-BQ Connection/Authentication "
      ]
    },
    {
      "cell_type": "code",
      "metadata": {
        "id": "cjZzKrpvKfCZ"
      },
      "source": [
        "# Use gcloud auth for authentication if you are using a local Jupyter Notebook \n",
        "# ! gcloud auth login\n",
        "# ! pip install pandas\n",
        "# Depending on the version of pandas, the following depedency may also be needed\n",
        "# ! pip install pandas-gbq\n",
        "from google.colab import auth\n",
        "auth.authenticate_user()\n",
        "import pandas as pd "
      ],
      "execution_count": null,
      "outputs": []
    },
    {
      "cell_type": "code",
      "metadata": {
        "id": "j_Zz-zsjL2bx",
        "colab": {
          "base_uri": "https://localhost:8080/"
        },
        "outputId": "a61b6978-0800-4278-d783-ccbb7294d08d"
      },
      "source": [
        "%%time\n",
        "\n",
        "query = \"\"\"\n",
        "  SELECT \n",
        "    unique_key,\n",
        "    case_number,\n",
        "    primary_type,\n",
        "    date,\n",
        "    longitude,\n",
        "    latitude\n",
        "  FROM `bigquery-public-data.chicago_crime.crime`\n",
        "  WHERE year = 2020\n",
        "\"\"\"\n",
        "\n",
        "df = pd.read_gbq(query, project_id='sandbox-264306', dialect='standard')"
      ],
      "execution_count": null,
      "outputs": [
        {
          "output_type": "stream",
          "text": [
            "CPU times: user 4.97 s, sys: 964 ms, total: 5.93 s\n",
            "Wall time: 18.4 s\n"
          ],
          "name": "stdout"
        }
      ]
    },
    {
      "cell_type": "code",
      "metadata": {
        "id": "_-hPJeKXMSkA",
        "colab": {
          "base_uri": "https://localhost:8080/"
        },
        "outputId": "7a204135-67c6-490e-8c7e-ccee57430eed"
      },
      "source": [
        "%%time\n",
        "\n",
        "%%bigquery df --project sandbox-264306 \n",
        "\n",
        "SELECT \n",
        "  unique_key,\n",
        "  case_number,\n",
        "  primary_type,\n",
        "  date,\n",
        "  longitude,\n",
        "  latitude\n",
        "FROM `bigquery-public-data.chicago_crime.crime`\n",
        "WHERE year = 2020"
      ],
      "execution_count": null,
      "outputs": [
        {
          "output_type": "stream",
          "text": [
            "CPU times: user 5.58 s, sys: 108 ms, total: 5.69 s\n",
            "Wall time: 16 s\n"
          ],
          "name": "stdout"
        }
      ]
    },
    {
      "cell_type": "markdown",
      "metadata": {
        "id": "O9kIvALEt8zY"
      },
      "source": [
        "## Interview Questions"
      ]
    },
    {
      "cell_type": "markdown",
      "metadata": {
        "id": "HF4RSzbzt8zY"
      },
      "source": [
        "### 1)\tState the differences between HAVING and WHERE clauses"
      ]
    },
    {
      "cell_type": "markdown",
      "metadata": {
        "id": "r8boa_Uot8zY"
      },
      "source": [
        "### 2)\tWhat is a Primary Key and what is a Foreign key?"
      ]
    },
    {
      "cell_type": "markdown",
      "metadata": {
        "id": "A6e1GjVtt8zZ"
      },
      "source": [
        "### 3)\tWhat is COALESCE function"
      ]
    },
    {
      "cell_type": "markdown",
      "metadata": {
        "id": "x_GkmgVMt8zZ"
      },
      "source": [
        "### 4)\tDefine different types of Joins"
      ]
    },
    {
      "cell_type": "markdown",
      "metadata": {
        "id": "7ZmN_25Ot8zZ"
      },
      "source": [
        "### 5)\tGive a scenario where self-join can be useful"
      ]
    },
    {
      "cell_type": "markdown",
      "metadata": {
        "id": "dAZ0Dry7VmDE"
      },
      "source": [
        "### 6) What is DATE_ADD in SQL"
      ]
    },
    {
      "cell_type": "markdown",
      "metadata": {
        "id": "EMVHgnQqt8zZ"
      },
      "source": [
        "### 7)\tWhat is the difference between a view and a table"
      ]
    },
    {
      "cell_type": "markdown",
      "metadata": {
        "id": "HqPYxDTgt8za"
      },
      "source": [
        "### 8)\tWhat is a Subquery? Explain a situation where sub query is used"
      ]
    },
    {
      "cell_type": "markdown",
      "metadata": {
        "id": "TOzpA0ket8za"
      },
      "source": [
        "### 9) What is the difference between BETWEEN and IN operators in SQL?"
      ]
    },
    {
      "cell_type": "markdown",
      "metadata": {
        "id": "wzFkdTrot8za"
      },
      "source": [
        "### 10)\tWhat are the Aggregate functions are available in SQL?"
      ]
    },
    {
      "cell_type": "markdown",
      "metadata": {
        "id": "jRVXyJ3QpaFi"
      },
      "source": [
        "### 11) What is the second highest value? (Window Function)"
      ]
    }
  ]
}