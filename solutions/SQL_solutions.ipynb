{
  "nbformat": 4,
  "nbformat_minor": 0,
  "metadata": {
    "kernelspec": {
      "display_name": "Python 3",
      "language": "python",
      "name": "python3"
    },
    "language_info": {
      "codemirror_mode": {
        "name": "ipython",
        "version": 3
      },
      "file_extension": ".py",
      "mimetype": "text/x-python",
      "name": "python",
      "nbconvert_exporter": "python",
      "pygments_lexer": "ipython3",
      "version": "3.7.6"
    },
    "colab": {
      "name": "SQL_solutions.ipynb",
      "provenance": [],
      "collapsed_sections": [],
      "include_colab_link": true
    }
  },
  "cells": [
    {
      "cell_type": "markdown",
      "metadata": {
        "id": "view-in-github",
        "colab_type": "text"
      },
      "source": [
        "<a href=\"https://colab.research.google.com/github/oliverrmaa/sql-springboard/blob/main/solutions/SQL_solutions.ipynb\" target=\"_parent\"><img src=\"https://colab.research.google.com/assets/colab-badge.svg\" alt=\"Open In Colab\"/></a>"
      ]
    },
    {
      "cell_type": "markdown",
      "metadata": {
        "id": "wzfBLuQCt8zG"
      },
      "source": [
        "# 1. Connecting Jupyter / Colab Notebook with Google BigQuery "
      ]
    },
    {
      "cell_type": "markdown",
      "metadata": {
        "id": "KzUPbNs4t8zJ"
      },
      "source": [
        "## 1.1 Discussion: Why do we need to learn SQL?"
      ]
    },
    {
      "cell_type": "markdown",
      "metadata": {
        "id": "ClrAJ6VDwg5S"
      },
      "source": [
        "## 1.2 Google BigQuery Set Up "
      ]
    },
    {
      "cell_type": "markdown",
      "metadata": {
        "id": "wAJpJs76wsyq"
      },
      "source": [
        "1. Go to https://cloud.google.com/bigquery/docs/sandbox and click on “Go to the Cloud Console” \n",
        "\n",
        "2. Sign in with a google account, if you do not have one you can make one by making a gmail account very easily here https://www.google.com/gmail/about/\n",
        "\n",
        "3. Go to the left hand panel and scroll down until you see BigQuery which is under the \"Big Data\" headings\n",
        "\n",
        "4. Click on BigQuery (Protip: click on the pin button beside BigQuery so that it is the first thing that appears in the left hand menu)\n",
        "\n",
        "5. BigQuery will now open and you will be prompted to create a new project. You can name this project anything you want. \n",
        "\n",
        "6. Once this is created make sure to bookmark the web URL to quickly get here in the future.\n",
        "\n"
      ]
    },
    {
      "cell_type": "markdown",
      "metadata": {
        "id": "eRLz1X3VNMRx"
      },
      "source": [
        "### 1.2.1 Google SDK Installation (only necessary for local notebooks)"
      ]
    },
    {
      "cell_type": "markdown",
      "metadata": {
        "id": "lToCf6c6NRzu"
      },
      "source": [
        "If you prefer to use a local instance of Jupyter Notebook, please note you will have to install the Google Cloud SDK so that you have access to the `gcloud` package commands for authentication purposes. Please follow the instructions here: https://cloud.google.com/sdk/docs/install"
      ]
    },
    {
      "cell_type": "markdown",
      "metadata": {
        "id": "RJ3FlMafQBn_"
      },
      "source": [
        "### 1.2.2 Google BigQuery UI Exploration"
      ]
    },
    {
      "cell_type": "markdown",
      "metadata": {
        "id": "PSCz5f8vQPKi"
      },
      "source": [
        "This will be done in the BQ UI during the lesson."
      ]
    },
    {
      "cell_type": "markdown",
      "metadata": {
        "id": "xoWTmqV2ywzg"
      },
      "source": [
        "## 1.2.3 Google BigQuery Public Datasets "
      ]
    },
    {
      "cell_type": "markdown",
      "metadata": {
        "id": "vCoTxSBFORW8"
      },
      "source": [
        "In the search bar of the left panel in Google BigQuery, please type in `public-data`. This should locate the `bigquery-public-data` project. Make sure to pin this project and you will have access to large publically available curated datasets! We will be using the `bigquery-public-data.chicago_crime.crime` table."
      ]
    },
    {
      "cell_type": "markdown",
      "metadata": {
        "id": "WneqmeCqy54B"
      },
      "source": [
        "## 1.4 Notebook-BQ Connection/Authentication "
      ]
    },
    {
      "cell_type": "code",
      "metadata": {
        "id": "cjZzKrpvKfCZ"
      },
      "source": [
        "# Use gcloud auth for authentication if you are using a local Jupyter Notebook \n",
        "# ! gcloud auth login\n",
        "# ! pip install pandas\n",
        "# Depending on the version of pandas, the following depedency may also be needed\n",
        "# ! pip install pandas-gbq\n",
        "from google.colab import auth\n",
        "auth.authenticate_user()\n",
        "import pandas as pd "
      ],
      "execution_count": null,
      "outputs": []
    },
    {
      "cell_type": "code",
      "metadata": {
        "id": "j_Zz-zsjL2bx",
        "colab": {
          "base_uri": "https://localhost:8080/"
        },
        "outputId": "a4de31c4-c4bb-4f77-aa07-0d5e7304f423"
      },
      "source": [
        "%%time\n",
        "\n",
        "query = \"\"\"\n",
        "  SELECT \n",
        "    unique_key,\n",
        "    case_number,\n",
        "    primary_type,\n",
        "    date,\n",
        "    longitude,\n",
        "    latitude\n",
        "  FROM `bigquery-public-data.chicago_crime.crime`\n",
        "  WHERE year = 2020\n",
        "\"\"\"\n",
        "\n",
        "df = pd.read_gbq(query, project_id='sandbox-264306', dialect='standard')"
      ],
      "execution_count": null,
      "outputs": [
        {
          "output_type": "stream",
          "text": [
            "CPU times: user 3.38 s, sys: 46.6 ms, total: 3.43 s\n",
            "Wall time: 12.4 s\n"
          ],
          "name": "stdout"
        }
      ]
    },
    {
      "cell_type": "code",
      "metadata": {
        "id": "_-hPJeKXMSkA",
        "colab": {
          "base_uri": "https://localhost:8080/"
        },
        "outputId": "b137de9b-c5e7-4845-b241-5580ce0c86df"
      },
      "source": [
        "%%time\n",
        "\n",
        "%%bigquery df --project sandbox-264306 \n",
        "\n",
        "SELECT \n",
        "  unique_key,\n",
        "  case_number,\n",
        "  primary_type,\n",
        "  date,\n",
        "  longitude,\n",
        "  latitude\n",
        "FROM `bigquery-public-data.chicago_crime.crime`\n",
        "WHERE year = 2020"
      ],
      "execution_count": null,
      "outputs": [
        {
          "output_type": "stream",
          "text": [
            "CPU times: user 3.76 s, sys: 63 ms, total: 3.82 s\n",
            "Wall time: 17.4 s\n"
          ],
          "name": "stdout"
        }
      ]
    },
    {
      "cell_type": "markdown",
      "metadata": {
        "id": "O9kIvALEt8zY"
      },
      "source": [
        "## Interview Questions"
      ]
    },
    {
      "cell_type": "markdown",
      "metadata": {
        "id": "HF4RSzbzt8zY"
      },
      "source": [
        "### 1)\tState the differences between HAVING and WHERE clauses"
      ]
    },
    {
      "cell_type": "code",
      "metadata": {
        "id": "yVSK2aXTt8zY",
        "colab": {
          "base_uri": "https://localhost:8080/"
        },
        "outputId": "1ba74698-c4e4-4463-9095-5d09fcb79910"
      },
      "source": [
        "%%time\n",
        "\n",
        "%%bigquery df --project sandbox-264306 \n",
        "\n",
        "WITH aggregation AS (\n",
        "\n",
        "  SELECT \n",
        "    primary_type,\n",
        "    COUNT(DISTINCT case_number) AS count_case_number\n",
        "  FROM `bigquery-public-data.chicago_crime.crime`\n",
        "  WHERE year = 2021\n",
        "  GROUP BY primary_type\n",
        "\n",
        ")\n",
        "\n",
        "SELECT *\n",
        "FROM aggregation\n",
        "WHERE count_case_number > 100\n",
        "ORDER BY primary_type"
      ],
      "execution_count": null,
      "outputs": [
        {
          "output_type": "stream",
          "text": [
            "CPU times: user 77.1 ms, sys: 26.2 ms, total: 103 ms\n",
            "Wall time: 1.83 s\n"
          ],
          "name": "stdout"
        }
      ]
    },
    {
      "cell_type": "code",
      "metadata": {
        "id": "JNwEO6Xht8zY",
        "colab": {
          "base_uri": "https://localhost:8080/"
        },
        "outputId": "751dd9c1-bde2-4a7a-f5af-cb4783fe3a03"
      },
      "source": [
        "%%time\n",
        "\n",
        "%%bigquery df --project sandbox-264306 \n",
        "\n",
        "SELECT \n",
        "  primary_type,\n",
        "  COUNT(DISTINCT case_number) AS count_case_number\n",
        "FROM `bigquery-public-data.chicago_crime.crime`\n",
        "WHERE year = 2021\n",
        "GROUP BY primary_type\n",
        "HAVING count_case_number > 100\n",
        "ORDER BY primary_type"
      ],
      "execution_count": null,
      "outputs": [
        {
          "output_type": "stream",
          "text": [
            "CPU times: user 49.5 ms, sys: 5.91 ms, total: 55.4 ms\n",
            "Wall time: 1.9 s\n"
          ],
          "name": "stdout"
        }
      ]
    },
    {
      "cell_type": "markdown",
      "metadata": {
        "id": "r8boa_Uot8zY"
      },
      "source": [
        "### 2)\tWhat is a Primary Key and what is a Foreign key?"
      ]
    },
    {
      "cell_type": "code",
      "metadata": {
        "id": "mB0JBxPBt8zY",
        "colab": {
          "base_uri": "https://localhost:8080/"
        },
        "outputId": "ca698b62-5051-4fbc-8f52-a3feac4bad12"
      },
      "source": [
        "%%time\n",
        "\n",
        "%%bigquery df --project sandbox-264306 \n",
        "\n",
        "# primary (unique) key\n",
        "SELECT \n",
        "  IF(\n",
        "    COUNT(*) = COUNT(DISTINCT unique_key),\n",
        "    TRUE,\n",
        "    FALSE\n",
        "  ) AS check_unique\n",
        "FROM `bigquery-public-data.chicago_crime.crime`"
      ],
      "execution_count": null,
      "outputs": [
        {
          "output_type": "stream",
          "text": [
            "CPU times: user 134 ms, sys: 14.5 ms, total: 149 ms\n",
            "Wall time: 6.11 s\n"
          ],
          "name": "stdout"
        }
      ]
    },
    {
      "cell_type": "markdown",
      "metadata": {
        "id": "A6e1GjVtt8zZ"
      },
      "source": [
        "### 3)\tWhat is COALESCE function"
      ]
    },
    {
      "cell_type": "code",
      "metadata": {
        "id": "AH0x9fVmt8zZ",
        "colab": {
          "base_uri": "https://localhost:8080/"
        },
        "outputId": "737128c3-dad0-4f64-eb49-ec2a1c1729ac"
      },
      "source": [
        "%%time\n",
        "\n",
        "%%bigquery df --project sandbox-264306 \n",
        "\n",
        "# returns the first non-null column\n",
        "SELECT \n",
        "  COALESCE(location_description, block) AS filled_in_location_description\n",
        "FROM `bigquery-public-data.chicago_crime.crime`\n",
        "WHERE location_description IS NULL"
      ],
      "execution_count": null,
      "outputs": [
        {
          "output_type": "stream",
          "text": [
            "CPU times: user 73.6 ms, sys: 1.72 ms, total: 75.3 ms\n",
            "Wall time: 1.8 s\n"
          ],
          "name": "stdout"
        }
      ]
    },
    {
      "cell_type": "markdown",
      "metadata": {
        "id": "x_GkmgVMt8zZ"
      },
      "source": [
        "### 4)\tDefine different types of Joins"
      ]
    },
    {
      "cell_type": "code",
      "metadata": {
        "colab": {
          "base_uri": "https://localhost:8080/"
        },
        "id": "ATqDcAmyIYT-",
        "outputId": "eea2ba24-4aa1-4629-af1e-ce724ed6ab1e"
      },
      "source": [
        "%%time\n",
        "\n",
        "%%bigquery df --project sandbox-264306  \n",
        "\n",
        "# Tables to demonstrate LEFT, RIGHT, INNER, FULL\n",
        "WITH _2020 AS (\n",
        "\n",
        "  SELECT \n",
        "    primary_type,\n",
        "    COUNT(DISTINCT case_number) AS count_cases\n",
        "  FROM `bigquery-public-data.chicago_crime.crime`\n",
        "  WHERE year = 2020\n",
        "  GROUP BY primary_type \n",
        "\n",
        "),\n",
        "\n",
        "_2021 AS (\n",
        "\n",
        "  SELECT \n",
        "    primary_type,\n",
        "    COUNT(DISTINCT case_number) AS count_cases\n",
        "  FROM `bigquery-public-data.chicago_crime.crime`\n",
        "  WHERE year = 2021\n",
        "  GROUP BY primary_type \n",
        "\n",
        ")\n",
        "\n",
        "SELECT \n",
        "  a.primary_type,\n",
        "  a.count_cases AS _2020_cases,\n",
        "  b.count_cases AS _2021_cases\n",
        "FROM _2021 AS a\n",
        "LEFT JOIN _2020 AS b\n",
        "ON a.primary_type = b.primary_type\n"
      ],
      "execution_count": null,
      "outputs": [
        {
          "output_type": "stream",
          "text": [
            "CPU times: user 54.6 ms, sys: 6.35 ms, total: 60.9 ms\n",
            "Wall time: 2.35 s\n"
          ],
          "name": "stdout"
        }
      ]
    },
    {
      "cell_type": "code",
      "metadata": {
        "colab": {
          "base_uri": "https://localhost:8080/"
        },
        "id": "3o7Hltr9IYbE",
        "outputId": "84c3adb7-60d4-48ec-a4db-6096b8e380d2"
      },
      "source": [
        "%%time\n",
        "\n",
        "%%bigquery df --project sandbox-264306  \n",
        "\n",
        "# cross join\n",
        "WITH _2021 AS (\n",
        "\n",
        "  SELECT DISTINCT \n",
        "    case_number,\n",
        "    longitude,\n",
        "    latitude\n",
        "  FROM `bigquery-public-data.chicago_crime.crime`\n",
        "  WHERE year = 2021\n",
        "  AND DATE(date) BETWEEN \"2021-05-01\" AND \"2021-06-01\"\n",
        "\n",
        "),\n",
        "\n",
        "cartesian_product AS (\n",
        "\n",
        "  SELECT \n",
        "    a.case_number,\n",
        "    b.case_number AS nearest_case,\n",
        "    ST_DISTANCE(ST_GEOGPOINT(a.longitude, a.latitude), ST_GEOGPOINT(b.longitude, b.latitude)) AS distance,\n",
        "    ROW_NUMBER() OVER w AS rn\n",
        "  FROM _2021 AS a\n",
        "  CROSS JOIN _2021 AS b\n",
        "  WHERE \n",
        "    ST_DISTANCE(ST_GEOGPOINT(a.longitude, a.latitude), ST_GEOGPOINT(b.longitude, b.latitude)) IS NOT NULL\n",
        "  WINDOW w AS (\n",
        "    PARTITION BY a.case_number \n",
        "    ORDER BY ST_DISTANCE(\n",
        "      ST_GEOGPOINT(a.longitude, a.latitude), \n",
        "      ST_GEOGPOINT(b.longitude, b.latitude)\n",
        "    ) ASC\n",
        "  )\n",
        "\n",
        ")\n",
        "\n",
        "SELECT *\n",
        "FROM cartesian_product \n",
        "WHERE rn = 2"
      ],
      "execution_count": null,
      "outputs": [
        {
          "output_type": "stream",
          "text": [
            "CPU times: user 299 ms, sys: 21.6 ms, total: 321 ms\n",
            "Wall time: 7 s\n"
          ],
          "name": "stdout"
        }
      ]
    },
    {
      "cell_type": "markdown",
      "metadata": {
        "id": "7ZmN_25Ot8zZ"
      },
      "source": [
        "### 5)\tGive a scenario where self-join can be useful"
      ]
    },
    {
      "cell_type": "markdown",
      "metadata": {
        "id": "SUyPah6sNorr"
      },
      "source": [
        "Both the nearest distance query and the comparison of primary types across years joins."
      ]
    },
    {
      "cell_type": "markdown",
      "metadata": {
        "id": "_bJQgTwVVXv4"
      },
      "source": [
        "### 6) What is DATE_ADD in SQL"
      ]
    },
    {
      "cell_type": "code",
      "metadata": {
        "id": "El6bHu3aVoqh"
      },
      "source": [
        "%%time\n",
        "\n",
        "%%bigquery df --project sandbox-264306  \n",
        "\n",
        "SELECT \n",
        "  unique_key,\n",
        "  case_number,\n",
        "  primary_type,\n",
        "  date,\n",
        "  longitude,\n",
        "  latitude\n",
        "FROM `bigquery-public-data.chicago_crime.crime`\n",
        "WHERE year = EXTRACT(YEAR FROM CURRENT_DATE(\"America/Los_Angeles\"))\n",
        "AND DATE(date, \"America/Los_Angeles\") >= DATE_ADD(CURRENT_DATE(\"America/Los_Angeles\"), INTERVAL -21 DAY)"
      ],
      "execution_count": null,
      "outputs": []
    },
    {
      "cell_type": "markdown",
      "metadata": {
        "id": "EMVHgnQqt8zZ"
      },
      "source": [
        "### 7)\tWhat is the difference between a view and a table"
      ]
    },
    {
      "cell_type": "markdown",
      "metadata": {
        "id": "imgUDc2YNvgJ"
      },
      "source": [
        "view is a \"virtual table\", it is the result set of an underlying query."
      ]
    },
    {
      "cell_type": "code",
      "metadata": {
        "colab": {
          "base_uri": "https://localhost:8080/"
        },
        "id": "tgpgV9TGN8aa",
        "outputId": "3fb06d5d-2189-4097-e662-0833a90abff9"
      },
      "source": [
        "%%time\n",
        "\n",
        "%%bigquery df --project sandbox-264306  \n",
        "\n",
        "CREATE OR REPLACE VIEW `sandbox-264306.sample_tables.example_view` AS (\n",
        "\n",
        "  WITH _2020 AS (\n",
        "\n",
        "    SELECT \n",
        "      primary_type,\n",
        "      COUNT(DISTINCT case_number) AS count_cases\n",
        "    FROM `bigquery-public-data.chicago_crime.crime`\n",
        "    WHERE year = 2020\n",
        "    GROUP BY primary_type \n",
        "\n",
        "  ),\n",
        "\n",
        "  _2021 AS (\n",
        "\n",
        "    SELECT \n",
        "      primary_type,\n",
        "      COUNT(DISTINCT case_number) AS count_cases\n",
        "    FROM `bigquery-public-data.chicago_crime.crime`\n",
        "    WHERE year = 2021\n",
        "    GROUP BY primary_type \n",
        "\n",
        "  )\n",
        "\n",
        "  SELECT \n",
        "    a.primary_type,\n",
        "    a.count_cases AS _2020_cases,\n",
        "    b.count_cases AS _2021_cases\n",
        "  FROM _2021 AS a\n",
        "  LEFT JOIN _2020 AS b\n",
        "  ON a.primary_type = b.primary_type\n",
        "\n",
        ")"
      ],
      "execution_count": null,
      "outputs": [
        {
          "output_type": "stream",
          "text": [
            "CPU times: user 32.6 ms, sys: 3.06 ms, total: 35.7 ms\n",
            "Wall time: 1.23 s\n"
          ],
          "name": "stdout"
        }
      ]
    },
    {
      "cell_type": "markdown",
      "metadata": {
        "id": "HqPYxDTgt8za"
      },
      "source": [
        "### 8)\tWhat is a Subquery? Explain a situation where sub query is used"
      ]
    },
    {
      "cell_type": "markdown",
      "metadata": {
        "id": "876dqwnkOl3j"
      },
      "source": [
        "\"Contriversal\" answer is that technically there are rarely situations where sub-query would be more beneficial than a common-table expression in most database systems. It's basically a query within a query. Subqueries can be used with `SELECT`, `FROM`, `WHERE`, or `HAVING`."
      ]
    },
    {
      "cell_type": "code",
      "metadata": {
        "colab": {
          "base_uri": "https://localhost:8080/"
        },
        "id": "mMLUQUYxOkL2",
        "outputId": "b68d0f9e-60c7-4917-c637-fe16f8fd263f"
      },
      "source": [
        "%%time\n",
        "\n",
        "%%bigquery df --project sandbox-264306 \n",
        "\n",
        "SELECT DISTINCT \n",
        "  case_number,\n",
        "  longitude,\n",
        "  latitude\n",
        "FROM `bigquery-public-data.chicago_crime.crime`\n",
        "WHERE year = (SELECT MAX(year) FROM `bigquery-public-data.chicago_crime.crime`)"
      ],
      "execution_count": null,
      "outputs": [
        {
          "output_type": "stream",
          "text": [
            "CPU times: user 949 ms, sys: 69.9 ms, total: 1.02 s\n",
            "Wall time: 6.82 s\n"
          ],
          "name": "stdout"
        }
      ]
    },
    {
      "cell_type": "markdown",
      "metadata": {
        "id": "TOzpA0ket8za"
      },
      "source": [
        "### 9) What is the difference between BETWEEN and IN operators in SQL?"
      ]
    },
    {
      "cell_type": "code",
      "metadata": {
        "colab": {
          "base_uri": "https://localhost:8080/"
        },
        "id": "FJIx9qREQVYn",
        "outputId": "71bf1a83-b6c2-48ec-cd8f-f019545a9fff"
      },
      "source": [
        "%%time\n",
        "\n",
        "%%bigquery df --project sandbox-264306 \n",
        "\n",
        "SELECT DISTINCT \n",
        "  case_number,\n",
        "  longitude,\n",
        "  latitude\n",
        "FROM `bigquery-public-data.chicago_crime.crime`\n",
        "WHERE year BETWEEN 2015 AND 2018"
      ],
      "execution_count": null,
      "outputs": [
        {
          "output_type": "stream",
          "text": [
            "CPU times: user 11.1 s, sys: 146 ms, total: 11.3 s\n",
            "Wall time: 47.5 s\n"
          ],
          "name": "stdout"
        }
      ]
    },
    {
      "cell_type": "code",
      "metadata": {
        "colab": {
          "base_uri": "https://localhost:8080/"
        },
        "id": "TBjfhz74QhvC",
        "outputId": "b08fabab-8f40-40e1-8c3d-4c45cc71f580"
      },
      "source": [
        "%%time\n",
        "\n",
        "%%bigquery df --project sandbox-264306 \n",
        "\n",
        "SELECT DISTINCT \n",
        "  case_number,\n",
        "  longitude,\n",
        "  latitude\n",
        "FROM `bigquery-public-data.chicago_crime.crime`\n",
        "WHERE year IN (2015, 2018)"
      ],
      "execution_count": null,
      "outputs": [
        {
          "output_type": "stream",
          "text": [
            "CPU times: user 5.74 s, sys: 73.8 ms, total: 5.81 s\n",
            "Wall time: 20.8 s\n"
          ],
          "name": "stdout"
        }
      ]
    },
    {
      "cell_type": "markdown",
      "metadata": {
        "id": "wzFkdTrot8za"
      },
      "source": [
        "### 10)\tWhat are the Aggregate functions are available in SQL?"
      ]
    },
    {
      "cell_type": "code",
      "metadata": {
        "id": "F2FNE9Xft8za",
        "colab": {
          "base_uri": "https://localhost:8080/"
        },
        "outputId": "347e93c0-0d56-40d6-faf0-9eb31201a35b"
      },
      "source": [
        "%%time\n",
        "\n",
        "%%bigquery df --project sandbox-264306 \n",
        "\n",
        "WITH year_block_agg AS (\n",
        "\n",
        "  SELECT\n",
        "    year,\n",
        "    block,\n",
        "    COUNT(case_number) AS block_case_count\n",
        "  FROM `bigquery-public-data.chicago_crime.crime`\n",
        "  GROUP BY year, block\n",
        "\n",
        ")\n",
        "\n",
        "SELECT \n",
        "  year,\n",
        "  MAX(block_case_count) AS max_block_case_count,\n",
        "  MIN(block_case_count) AS min_block_case_count,\n",
        "  AVG(block_case_count) AS avg_block_case_count,\n",
        "  SUM(block_case_count) AS sum_case_count\n",
        "FROM year_block_agg\n",
        "GROUP BY year\n",
        "ORDER BY year"
      ],
      "execution_count": null,
      "outputs": [
        {
          "output_type": "stream",
          "text": [
            "CPU times: user 138 ms, sys: 45.6 ms, total: 184 ms\n",
            "Wall time: 4.69 s\n"
          ],
          "name": "stdout"
        }
      ]
    },
    {
      "cell_type": "markdown",
      "metadata": {
        "id": "BbCwSZEBrEmL"
      },
      "source": [
        "### 11) What is the second highest value? (Window Function)"
      ]
    },
    {
      "cell_type": "code",
      "metadata": {
        "id": "8x36O5NLrFEa"
      },
      "source": [
        "%%time \n",
        "\n",
        "%%bigquery df --project sandbox-264306\n",
        "\n",
        "WITH daily_agg AS (\n",
        "\n",
        "  SELECT\n",
        "    DATE(date) AS date,\n",
        "    year,\n",
        "    COUNT(DISTINCT case_number) AS daily_count\n",
        "  FROM `bigquery-public-data.chicago_crime.crime`\n",
        "  WHERE year IN (2019, 2020)\n",
        "  GROUP BY date, year\n",
        "\n",
        "),\n",
        "\n",
        "row_numbered AS (\n",
        "\n",
        "  SELECT \n",
        "    *,\n",
        "    ROW_NUMBER() OVER (PARTITION BY year ORDER BY daily_count DESC) AS rn\n",
        "  FROM daily_agg\n",
        "\n",
        ")\n",
        "\n",
        "SELECT * \n",
        "FROM row_numbered \n",
        "WHERE rn = 2\n"
      ],
      "execution_count": null,
      "outputs": []
    }
  ]
}